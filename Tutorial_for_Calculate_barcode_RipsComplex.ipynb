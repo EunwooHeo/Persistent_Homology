{
 "cells": [
  {
   "cell_type": "code",
   "execution_count": 1,
   "id": "376b57e9",
   "metadata": {
    "ExecuteTime": {
     "end_time": "2023-01-30T15:06:58.415232Z",
     "start_time": "2023-01-30T15:06:58.393673Z"
    }
   },
   "outputs": [],
   "source": [
    "from Vietoris_Rips_Complex import *"
   ]
  },
  {
   "cell_type": "code",
   "execution_count": 2,
   "id": "05324f44",
   "metadata": {
    "ExecuteTime": {
     "end_time": "2023-01-30T15:06:59.634673Z",
     "start_time": "2023-01-30T15:06:59.622767Z"
    }
   },
   "outputs": [
    {
     "name": "stdout",
     "output_type": "stream",
     "text": [
      "[[0. 2. 3. ... 5. 5. 5.]\n",
      " [2. 0. 3. ... 3. 4. 4.]\n",
      " [3. 3. 0. ... 5. 7. 6.]\n",
      " ...\n",
      " [5. 3. 5. ... 0. 4. 3.]\n",
      " [5. 4. 7. ... 4. 0. 4.]\n",
      " [5. 4. 6. ... 3. 4. 0.]]\n"
     ]
    }
   ],
   "source": [
    "distmat=np.loadtxt('dist_sample.txt', delimiter = ',', skiprows = 0, dtype = 'float')\n",
    "print(distmat)"
   ]
  },
  {
   "cell_type": "code",
   "execution_count": 3,
   "id": "7de94e6a",
   "metadata": {
    "ExecuteTime": {
     "end_time": "2023-01-30T15:07:17.428897Z",
     "start_time": "2023-01-30T15:07:08.153824Z"
    }
   },
   "outputs": [],
   "source": [
    "_=Caculate_Vietoris_Ripscomplex_Standardalgorithm(distmat,2)"
   ]
  },
  {
   "cell_type": "code",
   "execution_count": 4,
   "id": "bdba8039",
   "metadata": {
    "ExecuteTime": {
     "end_time": "2023-01-30T15:07:41.731390Z",
     "start_time": "2023-01-30T15:07:41.710246Z"
    }
   },
   "outputs": [
    {
     "name": "stdout",
     "output_type": "stream",
     "text": [
      "\n",
      " 0th homology: \n",
      "\n",
      "B1= [0,infty) : [(0,)]\n",
      "B2= [0,1.0) : [(1,), (18,)]\n",
      "B3= [0,2.0) : [(2,), (4,)]\n",
      "B4= [0,1.0) : [(12,), (48,)]\n",
      "B5= [0,1.0) : [(4,), (47,)]\n",
      "B6= [0,1.0) : [(5,), (13,)]\n",
      "B7= [0,2.0) : [(6,), (7,)]\n",
      "B8= [0,1.0) : [(4,), (7,)]\n",
      "B9= [0,3.0) : [(4,), (8,)]\n",
      "B10= [0,3.0) : [(5,), (9,)]\n",
      "B11= [0,3.0) : [(5,), (10,)]\n",
      "B12= [0,2.0) : [(5,), (11,)]\n",
      "B13= [0,1.0) : [(12,), (17,)]\n",
      "B14= [0,1.0) : [(0,), (13,)]\n",
      "B15= [0,3.0) : [(13,), (14,)]\n",
      "B16= [0,1.0) : [(12,), (15,)]\n",
      "B17= [0,1.0) : [(17,), (32,)]\n",
      "B18= [0,1.0) : [(1,), (17,)]\n",
      "B19= [0,1.0) : [(0,), (18,)]\n",
      "B20= [0,1.0) : [(3,), (19,)]\n",
      "B21= [0,1.0) : [(18,), (20,)]\n",
      "B22= [0,1.0) : [(4,), (21,)]\n",
      "B23= [0,1.0) : [(5,), (22,)]\n",
      "B24= [0,1.0) : [(7,), (23,)]\n",
      "B25= [0,3.0) : [(3,), (24,)]\n",
      "B26= [0,1.0) : [(4,), (25,)]\n",
      "B27= [0,1.0) : [(27,), (28,)]\n",
      "B28= [0,1.0) : [(26,), (27,)]\n",
      "B29= [0,1.0) : [(18,), (28,)]\n",
      "B30= [0,1.0) : [(20,), (29,)]\n",
      "B31= [0,1.0) : [(4,), (30,)]\n",
      "B32= [0,1.0) : [(3,), (31,)]\n",
      "B33= [0,1.0) : [(16,), (32,)]\n",
      "B34= [0,4.0) : [(13,), (33,)]\n",
      "B35= [0,1.0) : [(13,), (34,)]\n",
      "B36= [0,1.0) : [(3,), (35,)]\n",
      "B37= [0,1.0) : [(3,), (36,)]\n",
      "B38= [0,1.0) : [(37,), (39,)]\n",
      "B39= [0,2.0) : [(12,), (38,)]\n",
      "B40= [0,1.0) : [(17,), (39,)]\n",
      "B41= [0,1.0) : [(21,), (40,)]\n",
      "B42= [0,1.0) : [(18,), (41,)]\n",
      "B43= [0,2.0) : [(41,), (42,)]\n",
      "B44= [0,1.0) : [(30,), (43,)]\n",
      "B45= [0,1.0) : [(4,), (44,)]\n",
      "B46= [0,1.0) : [(3,), (45,)]\n",
      "B47= [0,1.0) : [(12,), (46,)]\n",
      "B48= [0,1.0) : [(3,), (47,)]\n",
      "B49= [0,1.0) : [(4,), (48,)]\n",
      "B50= [0,1.0) : [(12,), (49,)]\n",
      "B51= [0,2.0) : [(15,), (50,)]\n",
      "B52= [0,1.0) : [(45,), (51,)]\n",
      "\n",
      " 1th homology: \n",
      "\n",
      "B1= [1.0,3.0) : [22, 5, 13, 0, 18, 1, 17, 12]\n",
      "B2= [1.0,2.0) : [31, 3, 47, 4, 48, 12, 17, 1, 18, 0, 13]\n",
      "B3= [1.0,2.0) : [34, 13, 0, 18, 1, 17, 12, 15]\n",
      "B4= [1.0,2.0) : [15, 45, 3, 47, 4, 48, 12]\n",
      "B5= [1.0,2.0) : [17, 35, 3, 47, 4, 48, 12]\n",
      "B6= [1.0,2.0) : [25, 4, 48, 12, 17, 1, 18]\n",
      "B7= [1.0,3.0) : [41, 18, 1, 17, 12, 48, 4, 47, 3, 19]\n",
      "B8= [1.0,2.0) : [21, 22, 5, 13, 0, 18, 1, 17, 12, 48, 4]\n",
      "B9= [1.0,2.0) : [29, 20, 18, 1, 17, 12, 48, 4, 25]\n",
      "B10= [1.0,2.0) : [49, 12, 17, 39, 37]\n",
      "B11= [1.0,2.0) : [43, 44, 4, 30]\n",
      "B12= [1.0,2.0) : [46, 12, 48, 4, 47, 3, 45]\n",
      "B13= [2.0,3.0) : [17, 23, 7, 4, 48, 12]\n",
      "B14= [2.0,3.0) : [42, 43, 30, 4, 48, 12, 17, 1, 18, 41]\n",
      "\n",
      " 2th homology: \n",
      "\n",
      "B1= [2.0,3.0) : [(12, 15, 17), (0, 5, 13), (0, 13, 31), (3, 13, 31), (3, 15, 17), (5, 12, 15), (0, 5, 34), (5, 12, 34), (3, 13, 15), (5, 13, 15), (3, 17, 31), (12, 17, 34), (0, 31, 34), (17, 31, 34)]\n",
      "B2= [2.0,3.0) : [(0, 5, 13), (0, 13, 31), (3, 4, 47), (3, 13, 31), (3, 4, 13), (4, 21, 22), (5, 21, 22), (0, 5, 31), (4, 13, 22), (5, 13, 22), (5, 21, 31), (4, 21, 47), (3, 31, 47), (21, 31, 47)]\n"
     ]
    }
   ],
   "source": [
    "Show_barcode()"
   ]
  },
  {
   "cell_type": "code",
   "execution_count": null,
   "id": "45f8dfc4",
   "metadata": {},
   "outputs": [],
   "source": []
  }
 ],
 "metadata": {
  "kernelspec": {
   "display_name": "Python 3 (ipykernel)",
   "language": "python",
   "name": "python3"
  },
  "language_info": {
   "codemirror_mode": {
    "name": "ipython",
    "version": 3
   },
   "file_extension": ".py",
   "mimetype": "text/x-python",
   "name": "python",
   "nbconvert_exporter": "python",
   "pygments_lexer": "ipython3",
   "version": "3.8.0"
  },
  "toc": {
   "base_numbering": 1,
   "nav_menu": {},
   "number_sections": true,
   "sideBar": true,
   "skip_h1_title": false,
   "title_cell": "Table of Contents",
   "title_sidebar": "Contents",
   "toc_cell": false,
   "toc_position": {},
   "toc_section_display": true,
   "toc_window_display": false
  },
  "varInspector": {
   "cols": {
    "lenName": 16,
    "lenType": 16,
    "lenVar": 40
   },
   "kernels_config": {
    "python": {
     "delete_cmd_postfix": "",
     "delete_cmd_prefix": "del ",
     "library": "var_list.py",
     "varRefreshCmd": "print(var_dic_list())"
    },
    "r": {
     "delete_cmd_postfix": ") ",
     "delete_cmd_prefix": "rm(",
     "library": "var_list.r",
     "varRefreshCmd": "cat(var_dic_list()) "
    }
   },
   "types_to_exclude": [
    "module",
    "function",
    "builtin_function_or_method",
    "instance",
    "_Feature"
   ],
   "window_display": false
  }
 },
 "nbformat": 4,
 "nbformat_minor": 5
}
